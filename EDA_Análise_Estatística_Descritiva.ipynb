{
  "nbformat": 4,
  "nbformat_minor": 0,
  "metadata": {
    "colab": {
      "provenance": [],
      "authorship_tag": "ABX9TyOFQDLY8waxK/LOn3Bdb+pH",
      "include_colab_link": true
    },
    "kernelspec": {
      "name": "python3",
      "display_name": "Python 3"
    },
    "language_info": {
      "name": "python"
    }
  },
  "cells": [
    {
      "cell_type": "markdown",
      "metadata": {
        "id": "view-in-github",
        "colab_type": "text"
      },
      "source": [
        "<a href=\"https://colab.research.google.com/github/alearauj/Scripts-Python/blob/main/EDA_An%C3%A1lise_Estat%C3%ADstica_Descritiva.ipynb\" target=\"_parent\"><img src=\"https://colab.research.google.com/assets/colab-badge.svg\" alt=\"Open In Colab\"/></a>"
      ]
    },
    {
      "cell_type": "markdown",
      "source": [
        "\n",
        "Este notebook foi criado com o objetivo de servir como um guia para realizar análises estatísticas descritivas de conjuntos de dados no formato CSV."
      ],
      "metadata": {
        "id": "m_TQMxN_-AMB"
      }
    },
    {
      "cell_type": "markdown",
      "source": [
        "### **Preparação do ambiente**\n"
      ],
      "metadata": {
        "id": "HlCOIGS5r87i"
      }
    },
    {
      "cell_type": "code",
      "source": [],
      "metadata": {
        "id": "EMU-0jUn_ZlI"
      },
      "execution_count": null,
      "outputs": []
    },
    {
      "cell_type": "markdown",
      "source": [
        "**Liberação das bibliotecas**"
      ],
      "metadata": {
        "id": "wyUwXE5G1G5A"
      }
    },
    {
      "cell_type": "code",
      "source": [
        "# Acesse as bibliotecas necessarias\n",
        "\n",
        "import pandas as pd\n",
        "import numpy as np\n",
        "import matplotlib.pyplot as plt\n",
        "import seaborn as sns"
      ],
      "metadata": {
        "id": "s2efe65-zTV4"
      },
      "execution_count": 13,
      "outputs": []
    },
    {
      "cell_type": "markdown",
      "source": [
        "**Importação e leitura do arquivo csv**\n",
        "\n",
        "> O arquivo csv foi importando manualmente através da aba \"Files\" disposta no lado esquerdo.\n",
        "\n"
      ],
      "metadata": {
        "id": "8elH6-YN10FK"
      }
    },
    {
      "cell_type": "code",
      "source": [
        "# Use o pandas para ler o arquivo CSV -- Lembre-se de atualizar o caminho.\n",
        "df = pd.read_csv('/content/olist_pedidos.csv')"
      ],
      "metadata": {
        "id": "3HXwxvqY1Z7-"
      },
      "execution_count": 16,
      "outputs": []
    },
    {
      "cell_type": "code",
      "source": [
        "# Exiba as primeiras linhas do DataFrame para verificar se os dados foram lidos corretamente\n",
        "print(df.head())"
      ],
      "metadata": {
        "colab": {
          "base_uri": "https://localhost:8080/"
        },
        "id": "TfzmVuj91uLk",
        "outputId": "7fc426c5-bb79-401b-e673-e9e08a92a484"
      },
      "execution_count": 17,
      "outputs": [
        {
          "output_type": "stream",
          "name": "stdout",
          "text": [
            "                           order_id                       customer_id  \\\n",
            "0  e481f51cbdc54678b7cc49136f2d6af7  9ef432eb6251297304e76186b10a928d   \n",
            "1  53cdb2fc8bc7dce0b6741e2150273451  b0830fb4747a6c6d20dea0b8c802d7ef   \n",
            "2  47770eb9100c2d0c44946d9cf07ec65d  41ce2a54c0b03bf3443c3d931a367089   \n",
            "3  949d5b44dbf5de918fe9c16f97b45f8a  f88197465ea7920adcdbec7375364d82   \n",
            "4  ad21c59c0840e6cb83a9ceb5573f8159  8ab97904e6daea8866dbdbc4fb7aad2c   \n",
            "\n",
            "  order_status order_purchase_timestamp order_approved_at  \\\n",
            "0   #delivered         02/10/2017 10:56  02/10/2017 11:07   \n",
            "1   #delivered         24/07/2018 20:41  26/07/2018 03:24   \n",
            "2   #delivered         08/08/2018 08:38  08/08/2018 08:55   \n",
            "3   #delivered         18/11/2017 19:28  18/11/2017 19:45   \n",
            "4   #delivered         13/02/2018 21:18  13/02/2018 22:20   \n",
            "\n",
            "  order_delivered_carrier_date order_delivered_customer_date  \\\n",
            "0             04/10/2017 19:55              10/10/2017 21:25   \n",
            "1             26/07/2018 14:31              07/08/2018 15:27   \n",
            "2             08/08/2018 13:50              17/08/2018 18:06   \n",
            "3             22/11/2017 13:39              02/12/2017 00:28   \n",
            "4             14/02/2018 19:46              16/02/2018 18:17   \n",
            "\n",
            "  order_estimated_delivery_date  \n",
            "0              18/10/2017 00:00  \n",
            "1              13/08/2018 00:00  \n",
            "2              04/09/2018 00:00  \n",
            "3              15/12/2017 00:00  \n",
            "4              26/02/2018 00:00  \n"
          ]
        }
      ]
    },
    {
      "cell_type": "markdown",
      "source": [
        "### **Conhecendo os dados**\n",
        "\n"
      ],
      "metadata": {
        "id": "XRFec11L3jTl"
      }
    },
    {
      "cell_type": "markdown",
      "source": [
        "**Checar tamanho do arquivo**"
      ],
      "metadata": {
        "id": "FH3WNH0Y357o"
      }
    },
    {
      "cell_type": "code",
      "source": [
        "df.shape"
      ],
      "metadata": {
        "colab": {
          "base_uri": "https://localhost:8080/"
        },
        "id": "ide1d4aU36rF",
        "outputId": "7216f40f-7400-4733-9d1c-7a2294c893c3"
      },
      "execution_count": 19,
      "outputs": [
        {
          "output_type": "execute_result",
          "data": {
            "text/plain": [
              "(99441, 8)"
            ]
          },
          "metadata": {},
          "execution_count": 19
        }
      ]
    },
    {
      "cell_type": "markdown",
      "source": [
        "**Checar os dados**"
      ],
      "metadata": {
        "id": "yoSePyjx5_cL"
      }
    },
    {
      "cell_type": "code",
      "source": [
        "df.head(10)"
      ],
      "metadata": {
        "colab": {
          "base_uri": "https://localhost:8080/",
          "height": 382
        },
        "id": "fd2kcaRp51r3",
        "outputId": "55186d35-e89a-47ea-a3d4-c751c3cc8247"
      },
      "execution_count": 23,
      "outputs": [
        {
          "output_type": "execute_result",
          "data": {
            "text/plain": [
              "                           order_id                       customer_id  \\\n",
              "0  e481f51cbdc54678b7cc49136f2d6af7  9ef432eb6251297304e76186b10a928d   \n",
              "1  53cdb2fc8bc7dce0b6741e2150273451  b0830fb4747a6c6d20dea0b8c802d7ef   \n",
              "2  47770eb9100c2d0c44946d9cf07ec65d  41ce2a54c0b03bf3443c3d931a367089   \n",
              "3  949d5b44dbf5de918fe9c16f97b45f8a  f88197465ea7920adcdbec7375364d82   \n",
              "4  ad21c59c0840e6cb83a9ceb5573f8159  8ab97904e6daea8866dbdbc4fb7aad2c   \n",
              "5  a4591c265e18cb1dcee52889e2d8acc3  503740e9ca751ccdda7ba28e9ab8f608   \n",
              "6  136cce7faa42fdb2cefd53fdc79a6098  ed0271e0b7da060a393796590e7b737a   \n",
              "7  6514b8ad8028c9f2cc2374ded245783f  9bdf08b4b3b52b5526ff42d37d47f222   \n",
              "8  76c6e866289321a7c93b82b54852dc33  f54a9f0e6b351c431402b8461ea51999   \n",
              "9  e69bfb5eb88e0ed6a785585b27e16dbf  31ad1d1b63eb9962463f764d4e6e0c9d   \n",
              "\n",
              "  order_status order_purchase_timestamp order_approved_at  \\\n",
              "0   #delivered         02/10/2017 10:56  02/10/2017 11:07   \n",
              "1   #delivered         24/07/2018 20:41  26/07/2018 03:24   \n",
              "2   #delivered         08/08/2018 08:38  08/08/2018 08:55   \n",
              "3   #delivered         18/11/2017 19:28  18/11/2017 19:45   \n",
              "4   #delivered         13/02/2018 21:18  13/02/2018 22:20   \n",
              "5   #delivered         09/07/2017 21:57  09/07/2017 22:10   \n",
              "6    #invoiced         11/04/2017 12:22  13/04/2017 13:25   \n",
              "7   #delivered         16/05/2017 13:10  16/05/2017 13:22   \n",
              "8   #delivered         23/01/2017 18:29  25/01/2017 02:50   \n",
              "9   #delivered         29/07/2017 11:55  29/07/2017 12:05   \n",
              "\n",
              "  order_delivered_carrier_date order_delivered_customer_date  \\\n",
              "0             04/10/2017 19:55              10/10/2017 21:25   \n",
              "1             26/07/2018 14:31              07/08/2018 15:27   \n",
              "2             08/08/2018 13:50              17/08/2018 18:06   \n",
              "3             22/11/2017 13:39              02/12/2017 00:28   \n",
              "4             14/02/2018 19:46              16/02/2018 18:17   \n",
              "5             11/07/2017 14:58              26/07/2017 10:57   \n",
              "6                          NaN                           NaN   \n",
              "7             22/05/2017 10:07              26/05/2017 12:55   \n",
              "8             26/01/2017 14:16              02/02/2017 14:08   \n",
              "9             10/08/2017 19:45              16/08/2017 17:14   \n",
              "\n",
              "  order_estimated_delivery_date  \n",
              "0              18/10/2017 00:00  \n",
              "1              13/08/2018 00:00  \n",
              "2              04/09/2018 00:00  \n",
              "3              15/12/2017 00:00  \n",
              "4              26/02/2018 00:00  \n",
              "5              01/08/2017 00:00  \n",
              "6              09/05/2017 00:00  \n",
              "7              07/06/2017 00:00  \n",
              "8              06/03/2017 00:00  \n",
              "9              23/08/2017 00:00  "
            ],
            "text/html": [
              "\n",
              "  <div id=\"df-ff22be13-7f26-45fc-9c75-1bd98db56755\" class=\"colab-df-container\">\n",
              "    <div>\n",
              "<style scoped>\n",
              "    .dataframe tbody tr th:only-of-type {\n",
              "        vertical-align: middle;\n",
              "    }\n",
              "\n",
              "    .dataframe tbody tr th {\n",
              "        vertical-align: top;\n",
              "    }\n",
              "\n",
              "    .dataframe thead th {\n",
              "        text-align: right;\n",
              "    }\n",
              "</style>\n",
              "<table border=\"1\" class=\"dataframe\">\n",
              "  <thead>\n",
              "    <tr style=\"text-align: right;\">\n",
              "      <th></th>\n",
              "      <th>order_id</th>\n",
              "      <th>customer_id</th>\n",
              "      <th>order_status</th>\n",
              "      <th>order_purchase_timestamp</th>\n",
              "      <th>order_approved_at</th>\n",
              "      <th>order_delivered_carrier_date</th>\n",
              "      <th>order_delivered_customer_date</th>\n",
              "      <th>order_estimated_delivery_date</th>\n",
              "    </tr>\n",
              "  </thead>\n",
              "  <tbody>\n",
              "    <tr>\n",
              "      <th>0</th>\n",
              "      <td>e481f51cbdc54678b7cc49136f2d6af7</td>\n",
              "      <td>9ef432eb6251297304e76186b10a928d</td>\n",
              "      <td>#delivered</td>\n",
              "      <td>02/10/2017 10:56</td>\n",
              "      <td>02/10/2017 11:07</td>\n",
              "      <td>04/10/2017 19:55</td>\n",
              "      <td>10/10/2017 21:25</td>\n",
              "      <td>18/10/2017 00:00</td>\n",
              "    </tr>\n",
              "    <tr>\n",
              "      <th>1</th>\n",
              "      <td>53cdb2fc8bc7dce0b6741e2150273451</td>\n",
              "      <td>b0830fb4747a6c6d20dea0b8c802d7ef</td>\n",
              "      <td>#delivered</td>\n",
              "      <td>24/07/2018 20:41</td>\n",
              "      <td>26/07/2018 03:24</td>\n",
              "      <td>26/07/2018 14:31</td>\n",
              "      <td>07/08/2018 15:27</td>\n",
              "      <td>13/08/2018 00:00</td>\n",
              "    </tr>\n",
              "    <tr>\n",
              "      <th>2</th>\n",
              "      <td>47770eb9100c2d0c44946d9cf07ec65d</td>\n",
              "      <td>41ce2a54c0b03bf3443c3d931a367089</td>\n",
              "      <td>#delivered</td>\n",
              "      <td>08/08/2018 08:38</td>\n",
              "      <td>08/08/2018 08:55</td>\n",
              "      <td>08/08/2018 13:50</td>\n",
              "      <td>17/08/2018 18:06</td>\n",
              "      <td>04/09/2018 00:00</td>\n",
              "    </tr>\n",
              "    <tr>\n",
              "      <th>3</th>\n",
              "      <td>949d5b44dbf5de918fe9c16f97b45f8a</td>\n",
              "      <td>f88197465ea7920adcdbec7375364d82</td>\n",
              "      <td>#delivered</td>\n",
              "      <td>18/11/2017 19:28</td>\n",
              "      <td>18/11/2017 19:45</td>\n",
              "      <td>22/11/2017 13:39</td>\n",
              "      <td>02/12/2017 00:28</td>\n",
              "      <td>15/12/2017 00:00</td>\n",
              "    </tr>\n",
              "    <tr>\n",
              "      <th>4</th>\n",
              "      <td>ad21c59c0840e6cb83a9ceb5573f8159</td>\n",
              "      <td>8ab97904e6daea8866dbdbc4fb7aad2c</td>\n",
              "      <td>#delivered</td>\n",
              "      <td>13/02/2018 21:18</td>\n",
              "      <td>13/02/2018 22:20</td>\n",
              "      <td>14/02/2018 19:46</td>\n",
              "      <td>16/02/2018 18:17</td>\n",
              "      <td>26/02/2018 00:00</td>\n",
              "    </tr>\n",
              "    <tr>\n",
              "      <th>5</th>\n",
              "      <td>a4591c265e18cb1dcee52889e2d8acc3</td>\n",
              "      <td>503740e9ca751ccdda7ba28e9ab8f608</td>\n",
              "      <td>#delivered</td>\n",
              "      <td>09/07/2017 21:57</td>\n",
              "      <td>09/07/2017 22:10</td>\n",
              "      <td>11/07/2017 14:58</td>\n",
              "      <td>26/07/2017 10:57</td>\n",
              "      <td>01/08/2017 00:00</td>\n",
              "    </tr>\n",
              "    <tr>\n",
              "      <th>6</th>\n",
              "      <td>136cce7faa42fdb2cefd53fdc79a6098</td>\n",
              "      <td>ed0271e0b7da060a393796590e7b737a</td>\n",
              "      <td>#invoiced</td>\n",
              "      <td>11/04/2017 12:22</td>\n",
              "      <td>13/04/2017 13:25</td>\n",
              "      <td>NaN</td>\n",
              "      <td>NaN</td>\n",
              "      <td>09/05/2017 00:00</td>\n",
              "    </tr>\n",
              "    <tr>\n",
              "      <th>7</th>\n",
              "      <td>6514b8ad8028c9f2cc2374ded245783f</td>\n",
              "      <td>9bdf08b4b3b52b5526ff42d37d47f222</td>\n",
              "      <td>#delivered</td>\n",
              "      <td>16/05/2017 13:10</td>\n",
              "      <td>16/05/2017 13:22</td>\n",
              "      <td>22/05/2017 10:07</td>\n",
              "      <td>26/05/2017 12:55</td>\n",
              "      <td>07/06/2017 00:00</td>\n",
              "    </tr>\n",
              "    <tr>\n",
              "      <th>8</th>\n",
              "      <td>76c6e866289321a7c93b82b54852dc33</td>\n",
              "      <td>f54a9f0e6b351c431402b8461ea51999</td>\n",
              "      <td>#delivered</td>\n",
              "      <td>23/01/2017 18:29</td>\n",
              "      <td>25/01/2017 02:50</td>\n",
              "      <td>26/01/2017 14:16</td>\n",
              "      <td>02/02/2017 14:08</td>\n",
              "      <td>06/03/2017 00:00</td>\n",
              "    </tr>\n",
              "    <tr>\n",
              "      <th>9</th>\n",
              "      <td>e69bfb5eb88e0ed6a785585b27e16dbf</td>\n",
              "      <td>31ad1d1b63eb9962463f764d4e6e0c9d</td>\n",
              "      <td>#delivered</td>\n",
              "      <td>29/07/2017 11:55</td>\n",
              "      <td>29/07/2017 12:05</td>\n",
              "      <td>10/08/2017 19:45</td>\n",
              "      <td>16/08/2017 17:14</td>\n",
              "      <td>23/08/2017 00:00</td>\n",
              "    </tr>\n",
              "  </tbody>\n",
              "</table>\n",
              "</div>\n",
              "    <div class=\"colab-df-buttons\">\n",
              "\n",
              "  <div class=\"colab-df-container\">\n",
              "    <button class=\"colab-df-convert\" onclick=\"convertToInteractive('df-ff22be13-7f26-45fc-9c75-1bd98db56755')\"\n",
              "            title=\"Convert this dataframe to an interactive table.\"\n",
              "            style=\"display:none;\">\n",
              "\n",
              "  <svg xmlns=\"http://www.w3.org/2000/svg\" height=\"24px\" viewBox=\"0 -960 960 960\">\n",
              "    <path d=\"M120-120v-720h720v720H120Zm60-500h600v-160H180v160Zm220 220h160v-160H400v160Zm0 220h160v-160H400v160ZM180-400h160v-160H180v160Zm440 0h160v-160H620v160ZM180-180h160v-160H180v160Zm440 0h160v-160H620v160Z\"/>\n",
              "  </svg>\n",
              "    </button>\n",
              "\n",
              "  <style>\n",
              "    .colab-df-container {\n",
              "      display:flex;\n",
              "      gap: 12px;\n",
              "    }\n",
              "\n",
              "    .colab-df-convert {\n",
              "      background-color: #E8F0FE;\n",
              "      border: none;\n",
              "      border-radius: 50%;\n",
              "      cursor: pointer;\n",
              "      display: none;\n",
              "      fill: #1967D2;\n",
              "      height: 32px;\n",
              "      padding: 0 0 0 0;\n",
              "      width: 32px;\n",
              "    }\n",
              "\n",
              "    .colab-df-convert:hover {\n",
              "      background-color: #E2EBFA;\n",
              "      box-shadow: 0px 1px 2px rgba(60, 64, 67, 0.3), 0px 1px 3px 1px rgba(60, 64, 67, 0.15);\n",
              "      fill: #174EA6;\n",
              "    }\n",
              "\n",
              "    .colab-df-buttons div {\n",
              "      margin-bottom: 4px;\n",
              "    }\n",
              "\n",
              "    [theme=dark] .colab-df-convert {\n",
              "      background-color: #3B4455;\n",
              "      fill: #D2E3FC;\n",
              "    }\n",
              "\n",
              "    [theme=dark] .colab-df-convert:hover {\n",
              "      background-color: #434B5C;\n",
              "      box-shadow: 0px 1px 3px 1px rgba(0, 0, 0, 0.15);\n",
              "      filter: drop-shadow(0px 1px 2px rgba(0, 0, 0, 0.3));\n",
              "      fill: #FFFFFF;\n",
              "    }\n",
              "  </style>\n",
              "\n",
              "    <script>\n",
              "      const buttonEl =\n",
              "        document.querySelector('#df-ff22be13-7f26-45fc-9c75-1bd98db56755 button.colab-df-convert');\n",
              "      buttonEl.style.display =\n",
              "        google.colab.kernel.accessAllowed ? 'block' : 'none';\n",
              "\n",
              "      async function convertToInteractive(key) {\n",
              "        const element = document.querySelector('#df-ff22be13-7f26-45fc-9c75-1bd98db56755');\n",
              "        const dataTable =\n",
              "          await google.colab.kernel.invokeFunction('convertToInteractive',\n",
              "                                                    [key], {});\n",
              "        if (!dataTable) return;\n",
              "\n",
              "        const docLinkHtml = 'Like what you see? Visit the ' +\n",
              "          '<a target=\"_blank\" href=https://colab.research.google.com/notebooks/data_table.ipynb>data table notebook</a>'\n",
              "          + ' to learn more about interactive tables.';\n",
              "        element.innerHTML = '';\n",
              "        dataTable['output_type'] = 'display_data';\n",
              "        await google.colab.output.renderOutput(dataTable, element);\n",
              "        const docLink = document.createElement('div');\n",
              "        docLink.innerHTML = docLinkHtml;\n",
              "        element.appendChild(docLink);\n",
              "      }\n",
              "    </script>\n",
              "  </div>\n",
              "\n",
              "\n",
              "<div id=\"df-4aa116cb-5788-4bd5-bf9a-b62a066673d6\">\n",
              "  <button class=\"colab-df-quickchart\" onclick=\"quickchart('df-4aa116cb-5788-4bd5-bf9a-b62a066673d6')\"\n",
              "            title=\"Suggest charts\"\n",
              "            style=\"display:none;\">\n",
              "\n",
              "<svg xmlns=\"http://www.w3.org/2000/svg\" height=\"24px\"viewBox=\"0 0 24 24\"\n",
              "     width=\"24px\">\n",
              "    <g>\n",
              "        <path d=\"M19 3H5c-1.1 0-2 .9-2 2v14c0 1.1.9 2 2 2h14c1.1 0 2-.9 2-2V5c0-1.1-.9-2-2-2zM9 17H7v-7h2v7zm4 0h-2V7h2v10zm4 0h-2v-4h2v4z\"/>\n",
              "    </g>\n",
              "</svg>\n",
              "  </button>\n",
              "\n",
              "<style>\n",
              "  .colab-df-quickchart {\n",
              "      --bg-color: #E8F0FE;\n",
              "      --fill-color: #1967D2;\n",
              "      --hover-bg-color: #E2EBFA;\n",
              "      --hover-fill-color: #174EA6;\n",
              "      --disabled-fill-color: #AAA;\n",
              "      --disabled-bg-color: #DDD;\n",
              "  }\n",
              "\n",
              "  [theme=dark] .colab-df-quickchart {\n",
              "      --bg-color: #3B4455;\n",
              "      --fill-color: #D2E3FC;\n",
              "      --hover-bg-color: #434B5C;\n",
              "      --hover-fill-color: #FFFFFF;\n",
              "      --disabled-bg-color: #3B4455;\n",
              "      --disabled-fill-color: #666;\n",
              "  }\n",
              "\n",
              "  .colab-df-quickchart {\n",
              "    background-color: var(--bg-color);\n",
              "    border: none;\n",
              "    border-radius: 50%;\n",
              "    cursor: pointer;\n",
              "    display: none;\n",
              "    fill: var(--fill-color);\n",
              "    height: 32px;\n",
              "    padding: 0;\n",
              "    width: 32px;\n",
              "  }\n",
              "\n",
              "  .colab-df-quickchart:hover {\n",
              "    background-color: var(--hover-bg-color);\n",
              "    box-shadow: 0 1px 2px rgba(60, 64, 67, 0.3), 0 1px 3px 1px rgba(60, 64, 67, 0.15);\n",
              "    fill: var(--button-hover-fill-color);\n",
              "  }\n",
              "\n",
              "  .colab-df-quickchart-complete:disabled,\n",
              "  .colab-df-quickchart-complete:disabled:hover {\n",
              "    background-color: var(--disabled-bg-color);\n",
              "    fill: var(--disabled-fill-color);\n",
              "    box-shadow: none;\n",
              "  }\n",
              "\n",
              "  .colab-df-spinner {\n",
              "    border: 2px solid var(--fill-color);\n",
              "    border-color: transparent;\n",
              "    border-bottom-color: var(--fill-color);\n",
              "    animation:\n",
              "      spin 1s steps(1) infinite;\n",
              "  }\n",
              "\n",
              "  @keyframes spin {\n",
              "    0% {\n",
              "      border-color: transparent;\n",
              "      border-bottom-color: var(--fill-color);\n",
              "      border-left-color: var(--fill-color);\n",
              "    }\n",
              "    20% {\n",
              "      border-color: transparent;\n",
              "      border-left-color: var(--fill-color);\n",
              "      border-top-color: var(--fill-color);\n",
              "    }\n",
              "    30% {\n",
              "      border-color: transparent;\n",
              "      border-left-color: var(--fill-color);\n",
              "      border-top-color: var(--fill-color);\n",
              "      border-right-color: var(--fill-color);\n",
              "    }\n",
              "    40% {\n",
              "      border-color: transparent;\n",
              "      border-right-color: var(--fill-color);\n",
              "      border-top-color: var(--fill-color);\n",
              "    }\n",
              "    60% {\n",
              "      border-color: transparent;\n",
              "      border-right-color: var(--fill-color);\n",
              "    }\n",
              "    80% {\n",
              "      border-color: transparent;\n",
              "      border-right-color: var(--fill-color);\n",
              "      border-bottom-color: var(--fill-color);\n",
              "    }\n",
              "    90% {\n",
              "      border-color: transparent;\n",
              "      border-bottom-color: var(--fill-color);\n",
              "    }\n",
              "  }\n",
              "</style>\n",
              "\n",
              "  <script>\n",
              "    async function quickchart(key) {\n",
              "      const quickchartButtonEl =\n",
              "        document.querySelector('#' + key + ' button');\n",
              "      quickchartButtonEl.disabled = true;  // To prevent multiple clicks.\n",
              "      quickchartButtonEl.classList.add('colab-df-spinner');\n",
              "      try {\n",
              "        const charts = await google.colab.kernel.invokeFunction(\n",
              "            'suggestCharts', [key], {});\n",
              "      } catch (error) {\n",
              "        console.error('Error during call to suggestCharts:', error);\n",
              "      }\n",
              "      quickchartButtonEl.classList.remove('colab-df-spinner');\n",
              "      quickchartButtonEl.classList.add('colab-df-quickchart-complete');\n",
              "    }\n",
              "    (() => {\n",
              "      let quickchartButtonEl =\n",
              "        document.querySelector('#df-4aa116cb-5788-4bd5-bf9a-b62a066673d6 button');\n",
              "      quickchartButtonEl.style.display =\n",
              "        google.colab.kernel.accessAllowed ? 'block' : 'none';\n",
              "    })();\n",
              "  </script>\n",
              "</div>\n",
              "\n",
              "    </div>\n",
              "  </div>\n"
            ],
            "application/vnd.google.colaboratory.intrinsic+json": {
              "type": "dataframe",
              "variable_name": "df",
              "summary": "{\n  \"name\": \"df\",\n  \"rows\": 99441,\n  \"fields\": [\n    {\n      \"column\": \"order_id\",\n      \"properties\": {\n        \"dtype\": \"string\",\n        \"num_unique_values\": 99441,\n        \"samples\": [\n          \"b9a6c5f5df52c7226ac85aee7524c27f\",\n          \"261e71d2349c713eafa9f3df5972b95d\",\n          \"67b50899f52995848c427e361e10dde3\"\n        ],\n        \"semantic_type\": \"\",\n        \"description\": \"\"\n      }\n    },\n    {\n      \"column\": \"customer_id\",\n      \"properties\": {\n        \"dtype\": \"string\",\n        \"num_unique_values\": 99441,\n        \"samples\": [\n          \"f160aaf480efdfa7268f0fa535f73e76\",\n          \"d6708bbbd2d419475869a84e41f620a1\",\n          \"1b353c00c71689afba44554e43cc5a76\"\n        ],\n        \"semantic_type\": \"\",\n        \"description\": \"\"\n      }\n    },\n    {\n      \"column\": \"order_status\",\n      \"properties\": {\n        \"dtype\": \"category\",\n        \"num_unique_values\": 8,\n        \"samples\": [\n          \"#invoiced\",\n          \"#canceled\",\n          \"#delivered\"\n        ],\n        \"semantic_type\": \"\",\n        \"description\": \"\"\n      }\n    },\n    {\n      \"column\": \"order_purchase_timestamp\",\n      \"properties\": {\n        \"dtype\": \"string\",\n        \"num_unique_values\": 88789,\n        \"samples\": [\n          \"29/06/2018 11:07\",\n          \"08/02/2017 07:50\",\n          \"09/05/2017 08:25\"\n        ],\n        \"semantic_type\": \"\",\n        \"description\": \"\"\n      }\n    },\n    {\n      \"column\": \"order_approved_at\",\n      \"properties\": {\n        \"dtype\": \"string\",\n        \"num_unique_values\": 50462,\n        \"samples\": [\n          \"07/05/2018 16:55\",\n          \"21/03/2018 02:35\",\n          \"18/07/2017 07:30\"\n        ],\n        \"semantic_type\": \"\",\n        \"description\": \"\"\n      }\n    },\n    {\n      \"column\": \"order_delivered_carrier_date\",\n      \"properties\": {\n        \"dtype\": \"string\",\n        \"num_unique_values\": 61544,\n        \"samples\": [\n          \"23/06/2017 10:57\",\n          \"02/04/2018 20:05\",\n          \"07/11/2017 20:03\"\n        ],\n        \"semantic_type\": \"\",\n        \"description\": \"\"\n      }\n    },\n    {\n      \"column\": \"order_delivered_customer_date\",\n      \"properties\": {\n        \"dtype\": \"string\",\n        \"num_unique_values\": 75649,\n        \"samples\": [\n          \"06/01/2018 16:38\",\n          \"05/03/2017 08:58\",\n          \"19/09/2017 19:13\"\n        ],\n        \"semantic_type\": \"\",\n        \"description\": \"\"\n      }\n    },\n    {\n      \"column\": \"order_estimated_delivery_date\",\n      \"properties\": {\n        \"dtype\": \"object\",\n        \"num_unique_values\": 459,\n        \"samples\": [\n          \"27/07/2018 00:00\",\n          \"06/08/2018 00:00\",\n          \"13/09/2017 00:00\"\n        ],\n        \"semantic_type\": \"\",\n        \"description\": \"\"\n      }\n    }\n  ]\n}"
            }
          },
          "metadata": {},
          "execution_count": 23
        }
      ]
    },
    {
      "cell_type": "markdown",
      "source": [
        "**Encontrar valores nulos**"
      ],
      "metadata": {
        "id": "8LdoJUJz4YQw"
      }
    },
    {
      "cell_type": "code",
      "source": [
        "df.isna().sum()"
      ],
      "metadata": {
        "colab": {
          "base_uri": "https://localhost:8080/"
        },
        "id": "7rYywe5S4Zqx",
        "outputId": "600025e9-389c-4114-f561-079b4183419d"
      },
      "execution_count": 20,
      "outputs": [
        {
          "output_type": "execute_result",
          "data": {
            "text/plain": [
              "order_id                            0\n",
              "customer_id                         0\n",
              "order_status                        0\n",
              "order_purchase_timestamp            0\n",
              "order_approved_at                 160\n",
              "order_delivered_carrier_date     1783\n",
              "order_delivered_customer_date    2965\n",
              "order_estimated_delivery_date       0\n",
              "dtype: int64"
            ]
          },
          "metadata": {},
          "execution_count": 20
        }
      ]
    },
    {
      "cell_type": "markdown",
      "source": [
        "Precisamos entender o que os valores nulos significam em cada uma das colunas para definirmos o que faremos com eles.\n",
        "\n",
        "\n",
        "*   **`order_approved_at`**: indica a data de aprovação do pedido. Como queremos entender o cenário das datas de entrega versus data estimada de entrega, essa coluna não afetará diretamente na comparação dos dois campos, mas pode ajudar a entender se existe relação com a data de aprovação do pedido versus data estimada de entrega.\n",
        "*   **`order_delivered_carrier_date`**: indica a data que o pedido foi entregue para a transportadora. Mesmo cenário da outra coluna em que os nulos não afetam na comparação direta entre os campos de data de entrega.\n",
        "*   **`order_delivered_customer_date`**: indica a data que o pedido foi entregue para o colaborador. Precisamos desse campo para entender se a data entregue está compatível com a prevista.\n",
        "\n",
        "\n",
        "\n",
        "\n",
        "\n",
        "\n",
        "\n"
      ],
      "metadata": {
        "id": "UxeJfmJ34kei"
      }
    },
    {
      "cell_type": "markdown",
      "source": [
        "**Encontrar valores duplicados**\n",
        "\n"
      ],
      "metadata": {
        "id": "YO-CtY3x4rO-"
      }
    },
    {
      "cell_type": "code",
      "source": [
        "df.duplicated().sum()"
      ],
      "metadata": {
        "colab": {
          "base_uri": "https://localhost:8080/"
        },
        "id": "M7Rxx88A4wEl",
        "outputId": "4a2d9a52-6ab1-47ac-f58e-c429931da437"
      },
      "execution_count": 21,
      "outputs": [
        {
          "output_type": "execute_result",
          "data": {
            "text/plain": [
              "0"
            ]
          },
          "metadata": {},
          "execution_count": 21
        }
      ]
    },
    {
      "cell_type": "markdown",
      "source": [
        "**Conhecer a tipagem dos dados**"
      ],
      "metadata": {
        "id": "7al8-mrV5DM8"
      }
    },
    {
      "cell_type": "code",
      "source": [
        "df.info()"
      ],
      "metadata": {
        "colab": {
          "base_uri": "https://localhost:8080/"
        },
        "id": "u4qQs_sv5HsE",
        "outputId": "64f7f525-50af-455f-853a-4b1af3ed6f3a"
      },
      "execution_count": 22,
      "outputs": [
        {
          "output_type": "stream",
          "name": "stdout",
          "text": [
            "<class 'pandas.core.frame.DataFrame'>\n",
            "RangeIndex: 99441 entries, 0 to 99440\n",
            "Data columns (total 8 columns):\n",
            " #   Column                         Non-Null Count  Dtype \n",
            "---  ------                         --------------  ----- \n",
            " 0   order_id                       99441 non-null  object\n",
            " 1   customer_id                    99441 non-null  object\n",
            " 2   order_status                   99441 non-null  object\n",
            " 3   order_purchase_timestamp       99441 non-null  object\n",
            " 4   order_approved_at              99281 non-null  object\n",
            " 5   order_delivered_carrier_date   97658 non-null  object\n",
            " 6   order_delivered_customer_date  96476 non-null  object\n",
            " 7   order_estimated_delivery_date  99441 non-null  object\n",
            "dtypes: object(8)\n",
            "memory usage: 6.1+ MB\n"
          ]
        }
      ]
    }
  ]
}