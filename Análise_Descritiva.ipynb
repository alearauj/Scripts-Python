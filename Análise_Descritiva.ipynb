{
  "nbformat": 4,
  "nbformat_minor": 0,
  "metadata": {
    "colab": {
      "provenance": [],
      "authorship_tag": "ABX9TyNlfffEyUqrUQCmJPQQTbim",
      "include_colab_link": true
    },
    "kernelspec": {
      "name": "python3",
      "display_name": "Python 3"
    },
    "language_info": {
      "name": "python"
    }
  },
  "cells": [
    {
      "cell_type": "markdown",
      "metadata": {
        "id": "view-in-github",
        "colab_type": "text"
      },
      "source": [
        "<a href=\"https://colab.research.google.com/github/alearauj/Scripts-Python/blob/main/An%C3%A1lise_Descritiva.ipynb\" target=\"_parent\"><img src=\"https://colab.research.google.com/assets/colab-badge.svg\" alt=\"Open In Colab\"/></a>"
      ]
    },
    {
      "cell_type": "markdown",
      "source": [
        "### **Preparação do ambiente**\n"
      ],
      "metadata": {
        "id": "HlCOIGS5r87i"
      }
    },
    {
      "cell_type": "markdown",
      "source": [
        "**Liberação das bibliotecas**"
      ],
      "metadata": {
        "id": "wyUwXE5G1G5A"
      }
    },
    {
      "cell_type": "code",
      "source": [
        "# Acesse as bibliotecas necessarias\n",
        "\n",
        "import pandas as pd\n",
        "import numpy as np\n",
        "import matplotlib.pyplot as plt\n",
        "import seaborn as sns"
      ],
      "metadata": {
        "id": "s2efe65-zTV4"
      },
      "execution_count": 13,
      "outputs": []
    },
    {
      "cell_type": "markdown",
      "source": [
        "**Importação e leitura do arquivo csv**\n",
        "\n",
        "> O arquivo csv foi importando manualmente através da aba \"Files\" disposta no lado esquerdo.\n",
        "\n"
      ],
      "metadata": {
        "id": "8elH6-YN10FK"
      }
    },
    {
      "cell_type": "code",
      "source": [
        "# Use o pandas para ler o arquivo CSV -- Lembre-se de atualizar o caminho.\n",
        "df = pd.read_csv('/content/olist_pedidos.csv')"
      ],
      "metadata": {
        "id": "3HXwxvqY1Z7-"
      },
      "execution_count": 16,
      "outputs": []
    },
    {
      "cell_type": "code",
      "source": [
        "# Exiba as primeiras linhas do DataFrame para verificar se os dados foram lidos corretamente\n",
        "print(df.head())"
      ],
      "metadata": {
        "colab": {
          "base_uri": "https://localhost:8080/"
        },
        "id": "TfzmVuj91uLk",
        "outputId": "7fc426c5-bb79-401b-e673-e9e08a92a484"
      },
      "execution_count": 17,
      "outputs": [
        {
          "output_type": "stream",
          "name": "stdout",
          "text": [
            "                           order_id                       customer_id  \\\n",
            "0  e481f51cbdc54678b7cc49136f2d6af7  9ef432eb6251297304e76186b10a928d   \n",
            "1  53cdb2fc8bc7dce0b6741e2150273451  b0830fb4747a6c6d20dea0b8c802d7ef   \n",
            "2  47770eb9100c2d0c44946d9cf07ec65d  41ce2a54c0b03bf3443c3d931a367089   \n",
            "3  949d5b44dbf5de918fe9c16f97b45f8a  f88197465ea7920adcdbec7375364d82   \n",
            "4  ad21c59c0840e6cb83a9ceb5573f8159  8ab97904e6daea8866dbdbc4fb7aad2c   \n",
            "\n",
            "  order_status order_purchase_timestamp order_approved_at  \\\n",
            "0   #delivered         02/10/2017 10:56  02/10/2017 11:07   \n",
            "1   #delivered         24/07/2018 20:41  26/07/2018 03:24   \n",
            "2   #delivered         08/08/2018 08:38  08/08/2018 08:55   \n",
            "3   #delivered         18/11/2017 19:28  18/11/2017 19:45   \n",
            "4   #delivered         13/02/2018 21:18  13/02/2018 22:20   \n",
            "\n",
            "  order_delivered_carrier_date order_delivered_customer_date  \\\n",
            "0             04/10/2017 19:55              10/10/2017 21:25   \n",
            "1             26/07/2018 14:31              07/08/2018 15:27   \n",
            "2             08/08/2018 13:50              17/08/2018 18:06   \n",
            "3             22/11/2017 13:39              02/12/2017 00:28   \n",
            "4             14/02/2018 19:46              16/02/2018 18:17   \n",
            "\n",
            "  order_estimated_delivery_date  \n",
            "0              18/10/2017 00:00  \n",
            "1              13/08/2018 00:00  \n",
            "2              04/09/2018 00:00  \n",
            "3              15/12/2017 00:00  \n",
            "4              26/02/2018 00:00  \n"
          ]
        }
      ]
    }
  ]
}